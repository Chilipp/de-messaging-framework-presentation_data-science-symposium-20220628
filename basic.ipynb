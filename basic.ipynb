{
 "cells": [
  {
   "cell_type": "markdown",
   "metadata": {
    "slideshow": {
     "slide_type": "slide"
    }
   },
   "source": [
    "# Basic example for de-messaging-python\n",
    "\n",
    "Write a backend module that accepts a netCDF file and computes the sum."
   ]
  },
  {
   "cell_type": "code",
   "execution_count": 1,
   "metadata": {
    "execution": {
     "iopub.execute_input": "2021-01-21T22:36:38.599767Z",
     "iopub.status.busy": "2021-01-21T22:36:38.599130Z",
     "iopub.status.idle": "2021-01-21T22:36:39.966935Z",
     "shell.execute_reply": "2021-01-21T22:36:39.966388Z"
    },
    "slideshow": {
     "slide_type": "fragment"
    }
   },
   "outputs": [],
   "source": [
    "cat > backend.py << EOF\n",
    "\n",
    "from demessaging import main\n",
    "from demessaging.types.xarray import DataArray\n",
    "\n",
    "\n",
    "def compute_sum(da: DataArray) -> DataArray:\n",
    "    \"\"\"Compute the sum over a data array.\n",
    "\n",
    "    Parameters\n",
    "    ----------\n",
    "    da : DataArray\n",
    "        The input data array\n",
    "\n",
    "    Returns\n",
    "    -------\n",
    "    DataArray\n",
    "        The sum of the data array\n",
    "    \"\"\"\n",
    "    return da.sum()\n",
    "\n",
    "\n",
    "if __name__ == \"__main__\":\n",
    "    main(topic=\"hello_world\", members=[\"compute_sum\"])\n",
    "    \n",
    "EOF"
   ]
  },
  {
   "cell_type": "markdown",
   "metadata": {
    "slideshow": {
     "slide_type": "slide"
    }
   },
   "source": [
    "## Command line utility\n",
    "\n",
    "The `main` function we used above gives us a command line utility"
   ]
  },
  {
   "cell_type": "code",
   "execution_count": 2,
   "metadata": {
    "execution": {
     "iopub.execute_input": "2021-01-21T22:36:39.968874Z",
     "iopub.status.busy": "2021-01-21T22:36:39.968559Z",
     "iopub.status.idle": "2021-01-21T22:36:41.589854Z",
     "shell.execute_reply": "2021-01-21T22:36:41.589518Z"
    },
    "scrolled": false,
    "slideshow": {
     "slide_type": "-"
    }
   },
   "outputs": [
    {
     "name": "stdout",
     "output_type": "stream",
     "text": [
      "usage: backend.py [-h] [-t TOPIC] [-m MODULE_NAME] [-d DOC] [-H HOST]\n",
      "                  [-p PORT] [--persistent PERSISTENT] [--tenant TENANT]\n",
      "                  [--namespace NAMESPACE] [--members member [member ...]]\n",
      "                  {test-connect,listen,schema,send-request,shell,generate} ...\n",
      "\n",
      "optional arguments:\n",
      "  -h, --help            show this help message and exit\n",
      "  -t TOPIC, --topic TOPIC\n",
      "                        The topic identifier under which to register at the\n",
      "                        pulsar. Default: hello_world\n",
      "  -m MODULE_NAME, --module MODULE_NAME\n",
      "                        Name of the backend module. Default: __main__\n",
      "  -d DOC, --description DOC\n",
      "                        The documentation of the object. If empty, this will\n",
      "                        be taken from the corresponding ``__doc__`` attribute.\n",
      "  -H HOST, --host HOST  The remote host of the pulsar Default: rz-vm154.gfz-\n",
      "                        potsdam.de\n",
      "  -p PORT, --port PORT  The port of the pulsar at the given :attr:`host`\n",
      "                        Default: 8082\n",
      "  --persistent PERSISTENT\n",
      "                        Default: non-persistent\n",
      "  --tenant TENANT       Default: public\n",
      "  --namespace NAMESPACE\n",
      "                        Default: digital-earth\n",
      "  --members member [member ...]\n",
      "                        List of members for this module\n",
      "\n",
      "Commands:\n",
      "  {test-connect,listen,schema,send-request,shell,generate}\n",
      "    test-connect        Connect the backend module to the pulsar message\n",
      "                        handler.\n",
      "    listen              Connect the backend module to the pulsar message\n",
      "                        handler.\n",
      "    schema              Print the schema for the backend module.\n",
      "    send-request        Test a request via the pulsar messaging system.\n",
      "    shell               Start an IPython shell\n",
      "    generate            Generate an API module\n"
     ]
    }
   ],
   "source": [
    "python backend.py --help"
   ]
  },
  {
   "cell_type": "markdown",
   "metadata": {
    "slideshow": {
     "slide_type": "subslide"
    }
   },
   "source": [
    "## Command line utility\n",
    "\n",
    "We can use it to connect to the Apache pulsar"
   ]
  },
  {
   "cell_type": "code",
   "execution_count": 3,
   "metadata": {
    "cell_style": "center",
    "execution": {
     "iopub.execute_input": "2021-01-21T22:36:41.591648Z",
     "iopub.status.busy": "2021-01-21T22:36:41.591308Z",
     "iopub.status.idle": "2021-01-21T22:36:41.695011Z",
     "shell.execute_reply": "2021-01-21T22:36:41.694643Z"
    },
    "slideshow": {
     "slide_type": "-"
    }
   },
   "outputs": [
    {
     "name": "stdout",
     "output_type": "stream",
     "text": [
      "[1] 177813\n"
     ]
    }
   ],
   "source": [
    "python backend.py listen &"
   ]
  },
  {
   "cell_type": "markdown",
   "metadata": {
    "slideshow": {
     "slide_type": "fragment"
    }
   },
   "source": [
    "and to generate the client stub"
   ]
  },
  {
   "cell_type": "code",
   "execution_count": 4,
   "metadata": {
    "cell_style": "center",
    "execution": {
     "iopub.execute_input": "2021-01-21T22:36:41.697175Z",
     "iopub.status.busy": "2021-01-21T22:36:41.696836Z",
     "iopub.status.idle": "2021-01-21T22:36:42.830584Z",
     "shell.execute_reply": "2021-01-21T22:36:42.830249Z"
    },
    "scrolled": false,
    "slideshow": {
     "slide_type": "-"
    }
   },
   "outputs": [
    {
     "name": "stdout",
     "output_type": "stream",
     "text": [
      "connection to ws://rz-vm154.gfz-potsdam.de:8082/ws/v2/consumer/non-persistent/public/digital-earth/hello_world/backend-module-2021-01-21T23:36:42 established\n",
      "waiting for incoming request\n",
      "\"\"\"\n",
      "\n",
      "\"\"\"\n",
      "from typing import Callable\n",
      "\n",
      "import demessaging.types.xarray\n",
      "from demessaging import BackendModule as _BackendModule\n",
      "from demessaging import main\n",
      "from demessaging.config import ModuleConfig\n",
      "\n",
      "__all__ = [\"compute_sum\"]\n",
      "\n",
      "\n",
      "def compute_sum(\n",
      "    da: demessaging.types.xarray.DataArray,\n",
      ") -> demessaging.types.xarray.DataArray:\n",
      "    \"\"\"\n",
      "    Compute the sum over a data array.\n",
      "\n",
      "    Parameters\n",
      "    ----------\n",
      "    da : DataArray\n",
      "        The input data array\n",
      "\n",
      "    Returns\n",
      "    -------\n",
      "    DataArray\n",
      "        The sum of the data array\n",
      "    \"\"\"\n",
      "    request = {\"member\": {\"func_name\": \"compute_sum\", \"da\": da}}\n",
      "\n",
      "    model = BackendModule.parse_obj(request)\n",
      "    model.compute()\n",
      "\n",
      "    return model.member.func_returns  # type: ignore\n",
      "\n",
      "\n",
      "backend_config = ModuleConfig.parse_raw(\n",
      "    \"\"\"\n",
      "{\n",
      "    \"host\": \"rz-vm154.gfz-potsdam.de\",\n",
      "    \"port\": \"8082\",\n",
      "    \"persistent\": \"non-persistent\",\n",
      "    \"tenant\": \"public\",\n",
      "    \"namespace\": \"digital-earth\",\n",
      "    \"topic\": \"hello_world\"\n",
      "}\n",
      "\"\"\"\n",
      ")\n",
      "\n",
      "_creator: Callable\n",
      "if __name__ == \"__main__\":\n",
      "    _creator = main\n",
      "else:\n",
      "    _creator = _BackendModule.create_model\n",
      "\n",
      "BackendModule = _creator(\n",
      "    __name__,\n",
      "    config=backend_config,\n",
      "    class_name=\"BackendModule\",\n",
      "    members=[compute_sum],\n",
      ")\n",
      "\n",
      "\u001b[0m"
     ]
    }
   ],
   "source": [
    "python backend.py generate"
   ]
  },
  {
   "cell_type": "markdown",
   "metadata": {
    "slideshow": {
     "slide_type": "subslide"
    }
   },
   "source": [
    "## Command line utility\n",
    "\n",
    "If we pipe this into a file, we generate a module that we can import."
   ]
  },
  {
   "cell_type": "code",
   "execution_count": 5,
   "metadata": {
    "execution": {
     "iopub.execute_input": "2021-01-21T22:36:42.832309Z",
     "iopub.status.busy": "2021-01-21T22:36:42.832009Z",
     "iopub.status.idle": "2021-01-21T22:36:43.844877Z",
     "shell.execute_reply": "2021-01-21T22:36:43.844524Z"
    },
    "slideshow": {
     "slide_type": "-"
    }
   },
   "outputs": [],
   "source": [
    "python backend.py generate > api.py"
   ]
  },
  {
   "cell_type": "markdown",
   "metadata": {
    "slideshow": {
     "slide_type": "slide"
    }
   },
   "source": [
    "## Let's try it"
   ]
  },
  {
   "cell_type": "markdown",
   "metadata": {
    "cell_style": "split"
   },
   "source": [
    "We defined compute_sum, to take xarray DataArray.\n",
    "\n",
    "```python\n",
    "def compute_sum(da: DataArray) -> DataArray:\n",
    "    \"\"\"Compute the sum over a data array.\n",
    "\n",
    "    Parameters\n",
    "    ----------\n",
    "    da : DataArray\n",
    "        The input data array\n",
    "\n",
    "    Returns\n",
    "    -------\n",
    "    DataArray\n",
    "        The sum of the data array\n",
    "    \"\"\"\n",
    "    return da.sum()\n",
    "```"
   ]
  },
  {
   "cell_type": "code",
   "execution_count": 6,
   "metadata": {
    "cell_style": "split",
    "execution": {
     "iopub.execute_input": "2021-01-21T22:36:43.846590Z",
     "iopub.status.busy": "2021-01-21T22:36:43.846284Z",
     "iopub.status.idle": "2021-01-21T22:36:45.686527Z",
     "shell.execute_reply": "2021-01-21T22:36:45.686144Z"
    },
    "slideshow": {
     "slide_type": "-"
    }
   },
   "outputs": [
    {
     "name": "stdout",
     "output_type": "stream",
     "text": [
      "connection to ws://rz-vm154.gfz-potsdam.de:8082/ws/v2/producer/non-persistent/public/digital-earth/hello_world established\n",
      "connection to ws://rz-vm154.gfz-potsdam.de:8082/ws/v2/consumer/non-persistent/public/digital-earth/hello_world_DIMlfKZk/python-backend-2021-01-21T23:36:45.230006 established\n",
      "[2021-01-21 23:36:45.393157] processing request\n",
      "connection to ws://rz-vm154.gfz-potsdam.de:8082/ws/v2/producer/non-persistent/public/digital-earth/hello_world_DIMlfKZk established\n",
      "request successful\n",
      "------\n",
      "<xarray.DataArray ()>\n",
      "array(6)\n",
      "\u001b[0m"
     ]
    }
   ],
   "source": [
    "python -- << EOF\n",
    "\n",
    "import xarray as xr\n",
    "from api import compute_sum\n",
    "\n",
    "summed = compute_sum(xr.DataArray([1, 2, 3]))\n",
    "\n",
    "print('------')\n",
    "print(summed)\n",
    "\n",
    "EOF"
   ]
  },
  {
   "cell_type": "markdown",
   "metadata": {
    "slideshow": {
     "slide_type": "subslide"
    }
   },
   "source": [
    "## Let's try it\n",
    "\n",
    "We can also load netCDF files from the disk and send them via the web"
   ]
  },
  {
   "cell_type": "code",
   "execution_count": 7,
   "metadata": {
    "execution": {
     "iopub.execute_input": "2021-01-21T22:36:45.688387Z",
     "iopub.status.busy": "2021-01-21T22:36:45.688047Z",
     "iopub.status.idle": "2021-01-21T22:36:51.082810Z",
     "shell.execute_reply": "2021-01-21T22:36:51.082455Z"
    },
    "slideshow": {
     "slide_type": "-"
    }
   },
   "outputs": [
    {
     "name": "stdout",
     "output_type": "stream",
     "text": [
      "connection to ws://rz-vm154.gfz-potsdam.de:8082/ws/v2/producer/non-persistent/public/digital-earth/hello_world established\n",
      "connection to ws://rz-vm154.gfz-potsdam.de:8082/ws/v2/consumer/non-persistent/public/digital-earth/hello_world_QUhsbbzV/python-backend-2021-01-21T23:36:47.367462 established\n",
      "[2021-01-21 23:36:49.120833] processing request\n",
      "connection to ws://rz-vm154.gfz-potsdam.de:8082/ws/v2/producer/non-persistent/public/digital-earth/hello_world_QUhsbbzV established\n",
      "request successful\n",
      "------\n",
      "<xarray.DataArray 't2m' ()>\n",
      "array(25730493.47895813)\n",
      "Coordinates:\n",
      "    lev      float64 1e+05\n",
      "\u001b[0m"
     ]
    }
   ],
   "source": [
    "python -- << EOF\n",
    "\n",
    "import xarray as xr\n",
    "from api import compute_sum\n",
    "\n",
    "ds = xr.open_dataset('demo.nc')\n",
    "summed = compute_sum(ds.t2m)\n",
    "\n",
    "print('------')\n",
    "print(summed)\n",
    "\n",
    "EOF"
   ]
  }
 ],
 "metadata": {
  "celltoolbar": "Slideshow",
  "kernelspec": {
   "display_name": "Bash",
   "language": "bash",
   "name": "bash"
  },
  "language_info": {
   "codemirror_mode": "shell",
   "file_extension": ".sh",
   "mimetype": "text/x-sh",
   "name": "bash"
  },
  "rise": {
   "autolaunch": true,
   "header": "<table><tr><td><h3>Basic example for de-messaging-python &ndash; January 22nd, 2021 &ndash; <a href='mailto:philipp.sommer@hzg.de'>Philipp S. Sommer</a></h3></td><td><a href='https://hzg.de', target='_blank'><img src='img/logo_hzg_rgb_deutsch.jpeg' alt='HZG' /></a><a href='https://hcdc.hzg.de', target='_blank'><img src='img/HCDC_final_RGB-small.jpg' alt='HCDC' /></a></td></tr></table>",
   "scroll": true,
   "top": "0px"
  }
 },
 "nbformat": 4,
 "nbformat_minor": 4
}
