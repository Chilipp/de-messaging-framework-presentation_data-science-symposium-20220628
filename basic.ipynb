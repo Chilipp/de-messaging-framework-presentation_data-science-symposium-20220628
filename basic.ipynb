{
 "cells": [
  {
   "cell_type": "markdown",
   "metadata": {
    "slideshow": {
     "slide_type": "slide"
    }
   },
   "source": [
    "# Basic example for the DASF Framework\n",
    "\n",
    "_Philipp S. Sommer_\n",
    "\n",
    "Supplementary notebook to live demo at the Data Science Symposium No. 7."
   ]
  },
  {
   "cell_type": "markdown",
   "metadata": {
    "slideshow": {
     "slide_type": "slide"
    }
   },
   "source": [
    "## A very basic backend module\n",
    "\n",
    "Take a netCDF variable and computes the sum."
   ]
  },
  {
   "cell_type": "code",
   "execution_count": 1,
   "metadata": {
    "execution": {
     "iopub.execute_input": "2021-01-21T22:36:38.599767Z",
     "iopub.status.busy": "2021-01-21T22:36:38.599130Z",
     "iopub.status.idle": "2021-01-21T22:36:39.966935Z",
     "shell.execute_reply": "2021-01-21T22:36:39.966388Z"
    },
    "slideshow": {
     "slide_type": "fragment"
    }
   },
   "outputs": [
    {
     "name": "stdout",
     "output_type": "stream",
     "text": [
      "\u001b[?2004h\u001b[?2004l\u001b[?2004l\u001b[?2004l\u001b[?2004l\u001b[?2004l\u001b[?2004l\u001b[?2004l\u001b[?2004l\u001b[?2004l\u001b[?2004l\u001b[?2004l\u001b[?2004l\u001b[?2004l\u001b[?2004l\u001b[?2004l\u001b[?2004l\u001b[?2004l\u001b[?2004l\u001b[?2004l\u001b[?2004l\u001b[?2004l\u001b[?2004l\u001b[?2004l\u001b[?2004l\u001b[?2004l"
     ]
    },
    {
     "ename": "",
     "evalue": "1",
     "output_type": "error",
     "traceback": []
    }
   ],
   "source": [
    "cat > backend.py << EOF\n",
    "\n",
    "from demessaging import main\n",
    "from demessaging.types.xarray import DataArray\n",
    "\n",
    "\n",
    "def compute_sum(da: DataArray) -> DataArray:\n",
    "    \"\"\"Compute the sum over a data array.\n",
    "\n",
    "    Parameters\n",
    "    ----------\n",
    "    da : DataArray\n",
    "        The input data array\n",
    "\n",
    "    Returns\n",
    "    -------\n",
    "    DataArray\n",
    "        The sum of the data array\n",
    "    \"\"\"\n",
    "    return da.sum()\n",
    "\n",
    "\n",
    "if __name__ == \"__main__\":\n",
    "    main(messaging_config=dict(topic=\"hello_world\"), members=[\"compute_sum\"])\n",
    "    \n",
    "EOF"
   ]
  },
  {
   "cell_type": "markdown",
   "metadata": {
    "slideshow": {
     "slide_type": "slide"
    }
   },
   "source": [
    "## Command line utility\n",
    "\n",
    "The `main` function we used above gives us a command line utility"
   ]
  },
  {
   "cell_type": "code",
   "execution_count": 2,
   "metadata": {
    "execution": {
     "iopub.execute_input": "2021-01-21T22:36:39.968874Z",
     "iopub.status.busy": "2021-01-21T22:36:39.968559Z",
     "iopub.status.idle": "2021-01-21T22:36:41.589854Z",
     "shell.execute_reply": "2021-01-21T22:36:41.589518Z"
    },
    "scrolled": false,
    "slideshow": {
     "slide_type": "-"
    }
   },
   "outputs": [
    {
     "name": "stdout",
     "output_type": "stream",
     "text": [
      "usage: backend.py [-h] [-t MESSAGING_CONFIG.TOPIC] [-m MODULE_NAME] [-d DOC]\n",
      "                  [-H PULSAR_CONFIG.HOST] [-p PULSAR_CONFIG.PORT]\n",
      "                  [--persistent PULSAR_CONFIG.PERSISTENT]\n",
      "                  [--tenant PULSAR_CONFIG.TENANT]\n",
      "                  [--namespace PULSAR_CONFIG.NAMESPACE]\n",
      "                  [--max_workers MESSAGING_CONFIG.MAX_WORKERS]\n",
      "                  [--queue_size MESSAGING_CONFIG.QUEUE_SIZE]\n",
      "                  [--max_payload_size MESSAGING_CONFIG.MAX_PAYLOAD_SIZE]\n",
      "                  [--websocket-url WEBSOCKETURL_CONFIG.WEBSOCKET_URL]\n",
      "                  [--members member [member ...]]\n",
      "                  {test-connect,listen,schema,send-request,shell,generate} ...\n",
      "\n",
      "optional arguments:\n",
      "  -h, --help            show this help message and exit\n",
      "  -m MODULE_NAME, --module MODULE_NAME\n",
      "                        Name of the backend module. Default: __main__\n",
      "  -d DOC, --description DOC\n",
      "                        The documentation of the object. If empty, this will\n",
      "                        be taken from the corresponding ``__doc__`` attribute.\n",
      "  --members member [member ...]\n",
      "                        List of members for this module\n",
      "\n",
      "Connection options:\n",
      "  General options for the backend module\n",
      "\n",
      "  -t MESSAGING_CONFIG.TOPIC, --topic MESSAGING_CONFIG.TOPIC\n",
      "                        The topic identifier under which to register at the\n",
      "                        pulsar. Default: hello_world\n",
      "  --max_workers MESSAGING_CONFIG.MAX_WORKERS\n",
      "                        (optional) number of concurrent workers for handling\n",
      "                        requests, default: number of processors on the\n",
      "                        machine, multiplied by 5.\n",
      "  --queue_size MESSAGING_CONFIG.QUEUE_SIZE\n",
      "                        (optional) size of the request queue, if MAX_WORKERS\n",
      "                        is set, this needs to be at least as big as\n",
      "                        MAX_WORKERS, otherwise an AttributeException is\n",
      "                        raised.\n",
      "  --max_payload_size MESSAGING_CONFIG.MAX_PAYLOAD_SIZE\n",
      "                        (optional) maximum payload size, must be smaller than\n",
      "                        pulsars 'webSocketMaxTextFrameSize', which is\n",
      "                        configured e.g.via\n",
      "                        'pulsar/conf/standalone.conf'.default: 512000 (500kb).\n",
      "                        Default: 512000\n",
      "\n",
      "Pulsar connection options:\n",
      "  Arguments for connecting to a pulsar. This is the default connection\n",
      "  method unless you specify a websocket-url (see below).\n",
      "\n",
      "  -H PULSAR_CONFIG.HOST, --host PULSAR_CONFIG.HOST\n",
      "                        The remote host of the pulsar. Default: localhost\n",
      "  -p PULSAR_CONFIG.PORT, --port PULSAR_CONFIG.PORT\n",
      "                        The port of the pulsar at the given :attr:`host`.\n",
      "                        Default: 8080\n",
      "  --persistent PULSAR_CONFIG.PERSISTENT\n",
      "                        Default: non-persistent\n",
      "  --tenant PULSAR_CONFIG.TENANT\n",
      "                        Default: public\n",
      "  --namespace PULSAR_CONFIG.NAMESPACE\n",
      "                        Default: default\n",
      "\n",
      "Websocket URL group:\n",
      "  Arguments for connecting to an arbitrary websocket service.\n",
      "\n",
      "  --websocket-url WEBSOCKETURL_CONFIG.WEBSOCKET_URL\n",
      "                        The fully qualified URL to the websocket.\n",
      "\n",
      "Commands:\n",
      "  {test-connect,listen,schema,send-request,shell,generate}\n",
      "    test-connect        Connect the backend module to the pulsar message\n",
      "                        handler.\n",
      "    listen              Connect the backend module to the pulsar message\n",
      "                        handler.\n",
      "    schema              Print the schema for the backend module.\n",
      "    send-request        Test a request via the pulsar messaging system.\n",
      "    shell               Start an IPython shell\n",
      "    generate            Generate an API module\n",
      "\u001b[?2004h"
     ]
    },
    {
     "ename": "",
     "evalue": "1",
     "output_type": "error",
     "traceback": []
    }
   ],
   "source": [
    "python backend.py --help"
   ]
  },
  {
   "cell_type": "markdown",
   "metadata": {
    "slideshow": {
     "slide_type": "subslide"
    }
   },
   "source": [
    "## Command line utility\n",
    "\n",
    "We can use it to connect to the Apache pulsar"
   ]
  },
  {
   "cell_type": "code",
   "execution_count": 3,
   "metadata": {
    "cell_style": "center",
    "execution": {
     "iopub.execute_input": "2021-01-21T22:36:41.591648Z",
     "iopub.status.busy": "2021-01-21T22:36:41.591308Z",
     "iopub.status.idle": "2021-01-21T22:36:41.695011Z",
     "shell.execute_reply": "2021-01-21T22:36:41.694643Z"
    },
    "slideshow": {
     "slide_type": "-"
    }
   },
   "outputs": [
    {
     "name": "stdout",
     "output_type": "stream",
     "text": [
      "[1] 17891\n",
      "\u001b[?2004h"
     ]
    },
    {
     "ename": "",
     "evalue": "1",
     "output_type": "error",
     "traceback": []
    }
   ],
   "source": [
    "python backend.py listen &"
   ]
  },
  {
   "cell_type": "markdown",
   "metadata": {
    "slideshow": {
     "slide_type": "fragment"
    }
   },
   "source": [
    "and to generate the client stub"
   ]
  },
  {
   "cell_type": "code",
   "execution_count": 4,
   "metadata": {
    "cell_style": "center",
    "execution": {
     "iopub.execute_input": "2021-01-21T22:36:41.697175Z",
     "iopub.status.busy": "2021-01-21T22:36:41.696836Z",
     "iopub.status.idle": "2021-01-21T22:36:42.830584Z",
     "shell.execute_reply": "2021-01-21T22:36:42.830249Z"
    },
    "scrolled": false,
    "slideshow": {
     "slide_type": "-"
    }
   },
   "outputs": [
    {
     "name": "stdout",
     "output_type": "stream",
     "text": [
      "connection attempt 1\n",
      "unable to establish connection (reason: Connection is already closed.), next attempt in 10 sec.\n",
      "\"\"\"2004l\n",
      "\n",
      "\"\"\"\n",
      "from typing import Callable\n",
      "\n",
      "import demessaging.types.xarray\n",
      "from demessaging import BackendModule as _BackendModule\n",
      "from demessaging import main\n",
      "from demessaging.config import ModuleConfig\n",
      "\n",
      "NoneType = type(None)\n",
      "\n",
      "\n",
      "__all__ = [\"compute_sum\"]\n",
      "\n",
      "\n",
      "def compute_sum(\n",
      "    da: demessaging.types.xarray.DataArray,\n",
      ") -> demessaging.types.xarray.DataArray:\n",
      "    \"\"\"\n",
      "    Compute the sum over a data array.\n",
      "\n",
      "    Parameters\n",
      "    ----------\n",
      "    da : DataArray\n",
      "        The input data array\n",
      "\n",
      "    Returns\n",
      "    -------\n",
      "    DataArray\n",
      "        The sum of the data array\n",
      "    \"\"\"\n",
      "    request = {\"func_name\": \"compute_sum\", \"da\": da}\n",
      "\n",
      "    model = BackendModule.parse_obj(request)\n",
      "    response = model.compute()\n",
      "\n",
      "    return response.__root__  # type: ignore\n",
      "\n",
      "\n",
      "backend_config = ModuleConfig.parse_raw(\n",
      "    \"\"\"\n",
      "{\n",
      "    \"messaging_config\": {\n",
      "        \"topic\": \"hello_world\",\n",
      "        \"max_workers\": null,\n",
      "        \"queue_size\": null,\n",
      "        \"max_payload_size\": 512000,\n",
      "        \"host\": \"localhost\",\n",
      "        \"port\": \"8080\",\n",
      "        \"persistent\": \"non-persistent\",\n",
      "        \"tenant\": \"public\",\n",
      "        \"namespace\": \"default\"\n",
      "}\n",
      "}\n",
      "\"\"\"\n",
      ")\n",
      "\n",
      "_creator: Callable\n",
      "if __name__ == \"__main__\":\n",
      "    _creator = main\n",
      "else:\n",
      "    _creator = _BackendModule.create_model\n",
      "\n",
      "BackendModule = _creator(\n",
      "    __name__,\n",
      "    config=backend_config,\n",
      "    class_name=\"BackendModule\",\n",
      "    members=[compute_sum],\n",
      ")\n",
      "\n",
      "\u001b[0m\u001b[?2004h"
     ]
    },
    {
     "ename": "",
     "evalue": "1",
     "output_type": "error",
     "traceback": []
    }
   ],
   "source": [
    "python backend.py generate"
   ]
  },
  {
   "cell_type": "markdown",
   "metadata": {
    "slideshow": {
     "slide_type": "subslide"
    }
   },
   "source": [
    "## Command line utility\n",
    "\n",
    "If we pipe this into a file, we generate a module that we can import."
   ]
  },
  {
   "cell_type": "code",
   "execution_count": 5,
   "metadata": {
    "execution": {
     "iopub.execute_input": "2021-01-21T22:36:42.832309Z",
     "iopub.status.busy": "2021-01-21T22:36:42.832009Z",
     "iopub.status.idle": "2021-01-21T22:36:43.844877Z",
     "shell.execute_reply": "2021-01-21T22:36:43.844524Z"
    },
    "slideshow": {
     "slide_type": "-"
    }
   },
   "outputs": [
    {
     "name": "stdout",
     "output_type": "stream",
     "text": [
      "\u001b[?2004l\r",
      "\u001b[?2004h"
     ]
    },
    {
     "ename": "",
     "evalue": "1",
     "output_type": "error",
     "traceback": []
    }
   ],
   "source": [
    "python backend.py generate > api.py"
   ]
  },
  {
   "cell_type": "markdown",
   "metadata": {
    "slideshow": {
     "slide_type": "slide"
    }
   },
   "source": [
    "## Let's try it"
   ]
  },
  {
   "cell_type": "markdown",
   "metadata": {
    "cell_style": "split"
   },
   "source": [
    "We defined compute_sum, to take xarray DataArray.\n",
    "\n",
    "```python\n",
    "def compute_sum(da: DataArray) -> DataArray:\n",
    "    \"\"\"Compute the sum over a data array.\n",
    "\n",
    "    Parameters\n",
    "    ----------\n",
    "    da : DataArray\n",
    "        The input data array\n",
    "\n",
    "    Returns\n",
    "    -------\n",
    "    DataArray\n",
    "        The sum of the data array\n",
    "    \"\"\"\n",
    "    return da.sum()\n",
    "```"
   ]
  },
  {
   "cell_type": "code",
   "execution_count": 6,
   "metadata": {
    "cell_style": "split",
    "execution": {
     "iopub.execute_input": "2021-01-21T22:36:43.846590Z",
     "iopub.status.busy": "2021-01-21T22:36:43.846284Z",
     "iopub.status.idle": "2021-01-21T22:36:45.686527Z",
     "shell.execute_reply": "2021-01-21T22:36:45.686144Z"
    },
    "slideshow": {
     "slide_type": "-"
    }
   },
   "outputs": [
    {
     "name": "stdout",
     "output_type": "stream",
     "text": [
      "connection attempt 2\n",
      "connection to ws://localhost:8080/ws/v2/consumer/non-persistent/public/default/hello_world/backend-module-2022-06-27T09:19:54 established\n",
      "waiting for incoming request\n",
      "connection to ws://localhost:8080/ws/v2/producer/non-persistent/public/default/hello_world established\n",
      "connection to ws://localhost:8080/ws/v2/consumer/non-persistent/public/default/hello_world_cBjawdLU/python-backend-2022-06-27T09:20:14.634672 established\n",
      "[2022-06-27 09:20:14.707167] processing request\n",
      "connection to ws://localhost:8080/ws/v2/producer/non-persistent/public/default/hello_world_cBjawdLU established\n",
      "request successful\n",
      "------\n",
      "<xarray.DataArray ()>\n",
      "array(6, dtype=int32)\n",
      "\u001b[0m\u001b[?2004h"
     ]
    },
    {
     "ename": "",
     "evalue": "1",
     "output_type": "error",
     "traceback": []
    }
   ],
   "source": [
    "python -- << EOF\n",
    "\n",
    "import xarray as xr\n",
    "from api import compute_sum\n",
    "\n",
    "summed = compute_sum(xr.DataArray([1, 2, 3]))\n",
    "\n",
    "print('------')\n",
    "print(summed)\n",
    "\n",
    "EOF"
   ]
  },
  {
   "cell_type": "markdown",
   "metadata": {
    "slideshow": {
     "slide_type": "subslide"
    }
   },
   "source": [
    "## Let's try it\n",
    "\n",
    "We can also load netCDF files from the disk and send them via the web"
   ]
  },
  {
   "cell_type": "code",
   "execution_count": 7,
   "metadata": {
    "execution": {
     "iopub.execute_input": "2021-01-21T22:36:45.688387Z",
     "iopub.status.busy": "2021-01-21T22:36:45.688047Z",
     "iopub.status.idle": "2021-01-21T22:36:51.082810Z",
     "shell.execute_reply": "2021-01-21T22:36:51.082455Z"
    },
    "slideshow": {
     "slide_type": "-"
    }
   },
   "outputs": [
    {
     "name": "stdout",
     "output_type": "stream",
     "text": [
      "connection to ws://localhost:8080/ws/v2/producer/non-persistent/public/default/hello_world established\n",
      "connection to ws://localhost:8080/ws/v2/consumer/non-persistent/public/default/hello_world_BpLwTSUw/python-backend-2022-06-27T09:20:22.089103 established\n",
      "[2022-06-27 09:20:22.183003] processing request\n",
      "connection to ws://localhost:8080/ws/v2/producer/non-persistent/public/default/hello_world_BpLwTSUw established\n",
      "request successful\n",
      "------\n",
      "<xarray.DataArray 't2m' ()>\n",
      "array(5142920., dtype=float32)\n",
      "Coordinates:\n",
      "    lev      float64 ...\n",
      "    time     datetime64[ns] ...\n",
      "\u001b[0m\u001b[?2004h"
     ]
    },
    {
     "ename": "",
     "evalue": "1",
     "output_type": "error",
     "traceback": []
    }
   ],
   "source": [
    "python -- << EOF\n",
    "\n",
    "import xarray as xr\n",
    "from api import compute_sum\n",
    "\n",
    "ds = xr.open_dataset('demo.nc')\n",
    "summed = compute_sum(ds.t2m[0])\n",
    "\n",
    "print('------')\n",
    "print(summed)\n",
    "\n",
    "EOF"
   ]
  }
 ],
 "metadata": {
  "celltoolbar": "Slideshow",
  "kernelspec": {
   "display_name": "Bash",
   "language": "bash",
   "name": "bash"
  },
  "language_info": {
   "codemirror_mode": "shell",
   "file_extension": ".sh",
   "mimetype": "text/x-sh",
   "name": "bash"
  },
  "rise": {
   "autolaunch": true,
   "header": "<table><tr><td><h3>Basic example for DASF Framework &ndash; June 28th, 2022 &ndash; <a href='mailto:philipp.sommer@hereon.de'>Philipp S. Sommer</a></h3></td><td><a href='https://hereon.de', target='_blank'><img src='img/hereon_Logo_quer.png' alt='Hereon' /></a><a href='https://hcdc.hereon.de', target='_blank'><img src='img/HCDC_final_RGB-small.jpg' alt='HCDC' /></a></td></tr></table>",
   "scroll": true,
   "top": "0px"
  }
 },
 "nbformat": 4,
 "nbformat_minor": 4
}
