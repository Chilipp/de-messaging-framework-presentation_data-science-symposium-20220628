{
 "cells": [
  {
   "cell_type": "markdown",
   "metadata": {
    "slideshow": {
     "slide_type": "slide"
    }
   },
   "source": [
    "# Example notebook for the _MOSES Sternfahrt 4_\n",
    "\n",
    "This notebook downloads data from the MOSES Sternfahrt 4 mission using the restAPI and gets the model parameters of the ECOSMO model via the `ecosmo.api` module."
   ]
  },
  {
   "cell_type": "markdown",
   "metadata": {
    "slideshow": {
     "slide_type": "slide"
    }
   },
   "source": [
    "## The MOSES 4 Show Case\n",
    "\n",
    "We select some sensors from the MOSES 4 Sternfahrt. These have been taken from the O2A Data Web Services at https://dashboard.awi.de/data-xxl"
   ]
  },
  {
   "cell_type": "code",
   "execution_count": 1,
   "metadata": {
    "execution": {
     "iopub.execute_input": "2021-01-21T22:37:48.509712Z",
     "iopub.status.busy": "2021-01-21T22:37:48.509399Z",
     "iopub.status.idle": "2021-01-21T22:37:48.511736Z",
     "shell.execute_reply": "2021-01-21T22:37:48.511286Z"
    }
   },
   "outputs": [],
   "source": [
    "sensors = [\n",
    "    \"small_scale_facility:pfb_awi_751801:longitude_0001\",\n",
    "    \"small_scale_facility:pfb_awi_751801:latitude_0001\",\n",
    "    \"small_scale_facility:pfb_awi_751801:temperature_0001\",\n",
    "    \"small_scale_facility:pfb_awi_751801:temperature_sbe45_0001\",\n",
    "    \"small_scale_facility:pfb_awi_751801:salinity_sbe45_0001\",\n",
    "]"
   ]
  },
  {
   "cell_type": "markdown",
   "metadata": {
    "slideshow": {
     "slide_type": "subslide"
    }
   },
   "source": [
    "## The MOSES 4 Show Case\n",
    "\n",
    "To download the data, we use the O2A data-web-services package (https://github.com/o2a-data/o2a-data-dws)."
   ]
  },
  {
   "cell_type": "code",
   "execution_count": 2,
   "metadata": {
    "execution": {
     "iopub.execute_input": "2021-01-21T22:37:48.514707Z",
     "iopub.status.busy": "2021-01-21T22:37:48.514275Z",
     "iopub.status.idle": "2021-01-21T22:37:49.021261Z",
     "shell.execute_reply": "2021-01-21T22:37:49.020940Z"
    }
   },
   "outputs": [
    {
     "data": {
      "text/html": [
       "<div>\n",
       "<style scoped>\n",
       "    .dataframe tbody tr th:only-of-type {\n",
       "        vertical-align: middle;\n",
       "    }\n",
       "\n",
       "    .dataframe tbody tr th {\n",
       "        vertical-align: top;\n",
       "    }\n",
       "\n",
       "    .dataframe thead th {\n",
       "        text-align: right;\n",
       "    }\n",
       "</style>\n",
       "<table border=\"1\" class=\"dataframe\">\n",
       "  <thead>\n",
       "    <tr style=\"text-align: right;\">\n",
       "      <th></th>\n",
       "      <th>datetime</th>\n",
       "      <th>longitude [degree]</th>\n",
       "      <th>latitude [degree]</th>\n",
       "      <th>temperature [°C]</th>\n",
       "      <th>temperature_sbe45 [°C]</th>\n",
       "      <th>salinity_sbe45 [PSU]</th>\n",
       "    </tr>\n",
       "  </thead>\n",
       "  <tbody>\n",
       "    <tr>\n",
       "      <th>0</th>\n",
       "      <td>2020-05-12 07:00:00</td>\n",
       "      <td>8.691301</td>\n",
       "      <td>53.896932</td>\n",
       "      <td>12.544424</td>\n",
       "      <td>12.371957</td>\n",
       "      <td>20.202211</td>\n",
       "    </tr>\n",
       "    <tr>\n",
       "      <th>1</th>\n",
       "      <td>2020-05-12 08:00:00</td>\n",
       "      <td>8.599985</td>\n",
       "      <td>53.961046</td>\n",
       "      <td>12.372096</td>\n",
       "      <td>12.299104</td>\n",
       "      <td>22.809384</td>\n",
       "    </tr>\n",
       "    <tr>\n",
       "      <th>2</th>\n",
       "      <td>2020-05-12 09:00:00</td>\n",
       "      <td>8.455386</td>\n",
       "      <td>53.986614</td>\n",
       "      <td>12.250490</td>\n",
       "      <td>12.176458</td>\n",
       "      <td>25.997186</td>\n",
       "    </tr>\n",
       "    <tr>\n",
       "      <th>3</th>\n",
       "      <td>2020-05-12 10:00:00</td>\n",
       "      <td>8.346667</td>\n",
       "      <td>53.995425</td>\n",
       "      <td>12.038740</td>\n",
       "      <td>11.971432</td>\n",
       "      <td>27.822074</td>\n",
       "    </tr>\n",
       "    <tr>\n",
       "      <th>4</th>\n",
       "      <td>2020-05-12 11:00:00</td>\n",
       "      <td>8.282148</td>\n",
       "      <td>53.987900</td>\n",
       "      <td>11.859090</td>\n",
       "      <td>11.793513</td>\n",
       "      <td>28.932331</td>\n",
       "    </tr>\n",
       "    <tr>\n",
       "      <th>5</th>\n",
       "      <td>2020-05-12 12:00:00</td>\n",
       "      <td>8.229221</td>\n",
       "      <td>53.975422</td>\n",
       "      <td>11.774803</td>\n",
       "      <td>11.702069</td>\n",
       "      <td>29.361237</td>\n",
       "    </tr>\n",
       "    <tr>\n",
       "      <th>6</th>\n",
       "      <td>2020-05-12 13:00:00</td>\n",
       "      <td>8.146051</td>\n",
       "      <td>53.905654</td>\n",
       "      <td>11.126204</td>\n",
       "      <td>11.038496</td>\n",
       "      <td>30.341012</td>\n",
       "    </tr>\n",
       "    <tr>\n",
       "      <th>7</th>\n",
       "      <td>2020-05-12 14:00:00</td>\n",
       "      <td>8.153086</td>\n",
       "      <td>53.795732</td>\n",
       "      <td>11.725587</td>\n",
       "      <td>11.643404</td>\n",
       "      <td>30.948018</td>\n",
       "    </tr>\n",
       "    <tr>\n",
       "      <th>8</th>\n",
       "      <td>2020-05-12 15:00:00</td>\n",
       "      <td>8.260179</td>\n",
       "      <td>53.724413</td>\n",
       "      <td>12.407907</td>\n",
       "      <td>12.340302</td>\n",
       "      <td>29.107627</td>\n",
       "    </tr>\n",
       "  </tbody>\n",
       "</table>\n",
       "</div>"
      ],
      "text/plain": [
       "             datetime  longitude [degree]  latitude [degree]  \\\n",
       "0 2020-05-12 07:00:00            8.691301          53.896932   \n",
       "1 2020-05-12 08:00:00            8.599985          53.961046   \n",
       "2 2020-05-12 09:00:00            8.455386          53.986614   \n",
       "3 2020-05-12 10:00:00            8.346667          53.995425   \n",
       "4 2020-05-12 11:00:00            8.282148          53.987900   \n",
       "5 2020-05-12 12:00:00            8.229221          53.975422   \n",
       "6 2020-05-12 13:00:00            8.146051          53.905654   \n",
       "7 2020-05-12 14:00:00            8.153086          53.795732   \n",
       "8 2020-05-12 15:00:00            8.260179          53.724413   \n",
       "\n",
       "   temperature [°C]  temperature_sbe45 [°C]  salinity_sbe45 [PSU]  \n",
       "0         12.544424               12.371957             20.202211  \n",
       "1         12.372096               12.299104             22.809384  \n",
       "2         12.250490               12.176458             25.997186  \n",
       "3         12.038740               11.971432             27.822074  \n",
       "4         11.859090               11.793513             28.932331  \n",
       "5         11.774803               11.702069             29.361237  \n",
       "6         11.126204               11.038496             30.341012  \n",
       "7         11.725587               11.643404             30.948018  \n",
       "8         12.407907               12.340302             29.107627  "
      ]
     },
     "execution_count": 1,
     "metadata": {},
     "output_type": "execute_result"
    }
   ],
   "source": [
    "from dws import dws\n",
    "\n",
    "df = dws.get(sensors, \"2020-01-01\", \"2020-12-31\")\n",
    "\n",
    "df.columns = [col.split(\":\")[-1].replace(\"_0001\", \"\").replace(\" (mean) \", \" \") for col in df.columns]\n",
    "df"
   ]
  },
  {
   "cell_type": "markdown",
   "metadata": {
    "slideshow": {
     "slide_type": "slide"
    }
   },
   "source": [
    "## The ECOSMO Backend Module\n",
    "\n",
    "We created a backend module that loads climate model data and extracts the data along a specific path."
   ]
  },
  {
   "cell_type": "markdown",
   "metadata": {},
   "source": [
    "```python\n",
    "def get_model_parameter(\n",
    "    names: Union[Parameter, List[Parameter]],\n",
    "    time: List[datetime.datetime],\n",
    "    lat: List[float],\n",
    "    lon: List[float],\n",
    ") -> DataFrame:\n",
    "    \"\"\"Get ECOSMO model parameters for a given 3D path.\n",
    "\n",
    "    This function takes a certain list of parameters and a 3D path, denoted by\n",
    "    time, latitude and longitude, and extracts the data from the highresolution\n",
    "    model output.\n",
    "\n",
    "    Parameters\n",
    "    ----------\n",
    "    names : Union[Parameter, List[Parameter]]\n",
    "        The parameter names to extract, see :class:`Parameter`.\n",
    "    time : List[datetime.datetime]\n",
    "        The list of times for each point.\n",
    "    lat : List[float]\n",
    "        The list of latitudes in degrees North for each point. Must be of the\n",
    "        same length as `time` and `lon`.\n",
    "    lon : List[float]\n",
    "        The list of longitudes in degrees East for each point. Must be of the\n",
    "        same length as `time` and `lat`.\n",
    "\n",
    "    Returns\n",
    "    -------\n",
    "    DataFrame\n",
    "        The dataframe with the selected model parameters for the given path.\n",
    "    \"\"\"\n",
    "    if isinstance(names, str):\n",
    "        names = [names]\n",
    "    params = [param.value for param in map(Parameter, names)]\n",
    "\n",
    "    if len(lat) != len(lon) or len(lat) != len(time):\n",
    "        raise ValueError(\"lat, time and lon must all be of the same length!\")\n",
    "\n",
    "    with xr.open_dataset(\n",
    "        osp.join(data_dir, \"ecosmo-ute-daewel-20200501-20200531.nc\")\n",
    "    ) as ds:\n",
    "\n",
    "        ds = ds[params].isel(layer=0).drop_vars(\"layer\")\n",
    "        lon_da = xr.DataArray(lon, dims=\"path\")\n",
    "        lat_da = xr.DataArray(lat, dims=\"path\")\n",
    "        time_da = xr.DataArray(time, dims=\"path\")\n",
    "        ds = ds.interp(lon=lon_da, lat=lat_da, time=time_da)\n",
    "\n",
    "    # convert the data to a pandas dataframe\n",
    "    return ds.to_dataframe()\n",
    "```"
   ]
  },
  {
   "cell_type": "markdown",
   "metadata": {
    "slideshow": {
     "slide_type": "subslide"
    }
   },
   "source": [
    "## Using the ECOSMO api module\n",
    "\n",
    "Now we call the backend module (assuming that it is connected already)."
   ]
  },
  {
   "cell_type": "code",
   "execution_count": 3,
   "metadata": {
    "cell_style": "split",
    "execution": {
     "iopub.execute_input": "2021-01-21T22:37:49.023791Z",
     "iopub.status.busy": "2021-01-21T22:37:49.023462Z",
     "iopub.status.idle": "2021-01-21T22:37:49.546987Z",
     "shell.execute_reply": "2021-01-21T22:37:49.547446Z"
    }
   },
   "outputs": [
    {
     "name": "stdout",
     "output_type": "stream",
     "text": [
      "connection to ws://rz-vm154.gfz-potsdam.de:8082/ws/v2/producer/non-persistent/public/digital-earth/ecosmo established\n",
      "connection to ws://rz-vm154.gfz-potsdam.de:8082/ws/v2/consumer/non-persistent/public/digital-earth/ecosmo_ZBgTQKCl/python-backend-2021-01-21T23:37:49.118556 established\n",
      "request successful\n"
     ]
    }
   ],
   "source": [
    "from ecosmo.api import get_model_parameter\n",
    "\n",
    "model_data = get_model_parameter(\n",
    "    [\"temp\", \"salt\"], \n",
    "    df.datetime.to_list(), \n",
    "    df[\"latitude [degree]\"].to_list(), \n",
    "    df[\"longitude [degree]\"].to_list()\n",
    ")"
   ]
  },
  {
   "cell_type": "code",
   "execution_count": 4,
   "metadata": {
    "cell_style": "split",
    "execution": {
     "iopub.execute_input": "2021-01-21T22:37:49.553424Z",
     "iopub.status.busy": "2021-01-21T22:37:49.553060Z",
     "iopub.status.idle": "2021-01-21T22:37:49.554835Z",
     "shell.execute_reply": "2021-01-21T22:37:49.555121Z"
    }
   },
   "outputs": [
    {
     "data": {
      "text/html": [
       "<div>\n",
       "<style scoped>\n",
       "    .dataframe tbody tr th:only-of-type {\n",
       "        vertical-align: middle;\n",
       "    }\n",
       "\n",
       "    .dataframe tbody tr th {\n",
       "        vertical-align: top;\n",
       "    }\n",
       "\n",
       "    .dataframe thead th {\n",
       "        text-align: right;\n",
       "    }\n",
       "</style>\n",
       "<table border=\"1\" class=\"dataframe\">\n",
       "  <thead>\n",
       "    <tr style=\"text-align: right;\">\n",
       "      <th></th>\n",
       "      <th>temp</th>\n",
       "      <th>salt</th>\n",
       "      <th>lon</th>\n",
       "      <th>lat</th>\n",
       "      <th>time</th>\n",
       "    </tr>\n",
       "  </thead>\n",
       "  <tbody>\n",
       "    <tr>\n",
       "      <th>0</th>\n",
       "      <td>NaN</td>\n",
       "      <td>NaN</td>\n",
       "      <td>8.691301</td>\n",
       "      <td>53.896932</td>\n",
       "      <td>1589266800000</td>\n",
       "    </tr>\n",
       "    <tr>\n",
       "      <th>1</th>\n",
       "      <td>11.983256</td>\n",
       "      <td>26.690295</td>\n",
       "      <td>8.599985</td>\n",
       "      <td>53.961046</td>\n",
       "      <td>1589270400000</td>\n",
       "    </tr>\n",
       "    <tr>\n",
       "      <th>2</th>\n",
       "      <td>NaN</td>\n",
       "      <td>NaN</td>\n",
       "      <td>8.455386</td>\n",
       "      <td>53.986614</td>\n",
       "      <td>1589274000000</td>\n",
       "    </tr>\n",
       "    <tr>\n",
       "      <th>3</th>\n",
       "      <td>10.917467</td>\n",
       "      <td>26.500072</td>\n",
       "      <td>8.346667</td>\n",
       "      <td>53.995425</td>\n",
       "      <td>1589277600000</td>\n",
       "    </tr>\n",
       "    <tr>\n",
       "      <th>4</th>\n",
       "      <td>11.213279</td>\n",
       "      <td>27.359059</td>\n",
       "      <td>8.282148</td>\n",
       "      <td>53.987900</td>\n",
       "      <td>1589281200000</td>\n",
       "    </tr>\n",
       "    <tr>\n",
       "      <th>5</th>\n",
       "      <td>11.821529</td>\n",
       "      <td>32.123666</td>\n",
       "      <td>8.229221</td>\n",
       "      <td>53.975422</td>\n",
       "      <td>1589284800000</td>\n",
       "    </tr>\n",
       "    <tr>\n",
       "      <th>6</th>\n",
       "      <td>10.973425</td>\n",
       "      <td>34.350685</td>\n",
       "      <td>8.146051</td>\n",
       "      <td>53.905654</td>\n",
       "      <td>1589288400000</td>\n",
       "    </tr>\n",
       "    <tr>\n",
       "      <th>7</th>\n",
       "      <td>NaN</td>\n",
       "      <td>NaN</td>\n",
       "      <td>8.153086</td>\n",
       "      <td>53.795732</td>\n",
       "      <td>1589292000000</td>\n",
       "    </tr>\n",
       "    <tr>\n",
       "      <th>8</th>\n",
       "      <td>NaN</td>\n",
       "      <td>NaN</td>\n",
       "      <td>8.260179</td>\n",
       "      <td>53.724413</td>\n",
       "      <td>1589295600000</td>\n",
       "    </tr>\n",
       "  </tbody>\n",
       "</table>\n",
       "</div>"
      ],
      "text/plain": [
       "        temp       salt       lon        lat           time\n",
       "0        NaN        NaN  8.691301  53.896932  1589266800000\n",
       "1  11.983256  26.690295  8.599985  53.961046  1589270400000\n",
       "2        NaN        NaN  8.455386  53.986614  1589274000000\n",
       "3  10.917467  26.500072  8.346667  53.995425  1589277600000\n",
       "4  11.213279  27.359059  8.282148  53.987900  1589281200000\n",
       "5  11.821529  32.123666  8.229221  53.975422  1589284800000\n",
       "6  10.973425  34.350685  8.146051  53.905654  1589288400000\n",
       "7        NaN        NaN  8.153086  53.795732  1589292000000\n",
       "8        NaN        NaN  8.260179  53.724413  1589295600000"
      ]
     },
     "execution_count": 1,
     "metadata": {},
     "output_type": "execute_result"
    }
   ],
   "source": [
    "model_data"
   ]
  },
  {
   "cell_type": "markdown",
   "metadata": {
    "slideshow": {
     "slide_type": "slide"
    }
   },
   "source": [
    "## Model vs. Observations"
   ]
  },
  {
   "cell_type": "markdown",
   "metadata": {
    "cell_style": "split"
   },
   "source": [
    "Now we can merge the `temp` and `salt` columns into our observations and plot them."
   ]
  },
  {
   "cell_type": "code",
   "execution_count": 5,
   "metadata": {
    "cell_style": "split",
    "execution": {
     "iopub.execute_input": "2021-01-21T22:37:49.558107Z",
     "iopub.status.busy": "2021-01-21T22:37:49.557797Z",
     "iopub.status.idle": "2021-01-21T22:37:49.559527Z",
     "shell.execute_reply": "2021-01-21T22:37:49.559207Z"
    }
   },
   "outputs": [],
   "source": [
    "df[\"ecosmo_temperature\"] = model_data.temp.values\n",
    "df[\"ecosmo_salinity\"] = model_data.salt.values"
   ]
  },
  {
   "cell_type": "code",
   "execution_count": 6,
   "metadata": {
    "execution": {
     "iopub.execute_input": "2021-01-21T22:37:49.562254Z",
     "iopub.status.busy": "2021-01-21T22:37:49.561922Z",
     "iopub.status.idle": "2021-01-21T22:37:50.265927Z",
     "shell.execute_reply": "2021-01-21T22:37:50.265546Z"
    }
   },
   "outputs": [
    {
     "data": {
      "text/plain": [
       "<AxesSubplot:xlabel='salinity_sbe45 [PSU]', ylabel='ecosmo_salinity'>"
      ]
     },
     "execution_count": 1,
     "metadata": {},
     "output_type": "execute_result"
    },
    {
     "data": {
      "image/png": "[encoded data removed]",
      "text/plain": [
       "<Figure size 2100x600 with 3 Axes>"
      ]
     },
     "metadata": {
      "needs_background": "light"
     },
     "output_type": "display_data"
    }
   ],
   "source": [
    "import matplotlib.pyplot as plt\n",
    "fig, axes = plt.subplots(1, 3, figsize=(14, 4), dpi=150)\n",
    "df.plot.scatter(\"temperature [°C]\", \"ecosmo_temperature\", ax=axes[0])\n",
    "df.plot.scatter(\"temperature_sbe45 [°C]\", \"ecosmo_temperature\", ax=axes[1])\n",
    "df.plot.scatter(\"salinity_sbe45 [PSU]\", \"ecosmo_salinity\", ax=axes[2])"
   ]
  }
 ],
 "metadata": {
  "celltoolbar": "Slideshow",
  "kernelspec": {
   "display_name": "Python 3",
   "language": "python",
   "name": "python3"
  },
  "language_info": {
   "codemirror_mode": {
    "name": "ipython",
    "version": 3
   },
   "file_extension": ".py",
   "mimetype": "text/x-python",
   "name": "python",
   "nbconvert_exporter": "python",
   "pygments_lexer": "ipython3",
   "version": "3.8.6"
  },
  "rise": {
   "autolaunch": true,
   "header": "<table><tr><td><h3>de-messaging-python Example for MOSES Sternfahrt 4 &ndash; January 22nd, 2021 &ndash; <a href='mailto:philipp.sommer@hzg.de'>Philipp S. Sommer</a></h3></td><td><a href='https://hzg.de', target='_blank'><img src='img/logo_hzg_rgb_deutsch.jpeg' alt='HZG' /></a><a href='https://hcdc.hzg.de', target='_blank'><img src='img/HCDC_final_RGB-small.jpg' alt='HCDC' /></a></td></tr></table>",
   "scroll": true,
   "top": "0px"
  }
 },
 "nbformat": 4,
 "nbformat_minor": 2
}
