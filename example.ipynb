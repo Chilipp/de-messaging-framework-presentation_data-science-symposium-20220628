{
 "cells": [
  {
   "cell_type": "markdown",
   "metadata": {
    "slideshow": {
     "slide_type": "slide"
    }
   },
   "source": [
    "# Example notebook for the _MOSES Sternfahrt 4_\n",
    "\n",
    "This notebook downloads data from the MOSES Sternfahrt 4 mission using the restAPI and gets the model parameters of the ECOSMO model via the `ecosmo.api` module."
   ]
  },
  {
   "cell_type": "markdown",
   "metadata": {
    "slideshow": {
     "slide_type": "slide"
    }
   },
   "source": [
    "## The MOSES 4 Show Case\n",
    "\n",
    "We select some sensors from the MOSES 4 Sternfahrt. These have been taken from the O2A Data Web Services at https://dashboard.awi.de/data-xxl"
   ]
  },
  {
   "cell_type": "code",
   "execution_count": null,
   "metadata": {},
   "outputs": [],
   "source": [
    "sensors = [\n",
    "    \"small_scale_facility:pfb_awi_751801:longitude_0001\",\n",
    "    \"small_scale_facility:pfb_awi_751801:latitude_0001\",\n",
    "    \"small_scale_facility:pfb_awi_751801:temperature_0001\",\n",
    "    \"small_scale_facility:pfb_awi_751801:temperature_sbe45_0001\",\n",
    "    \"small_scale_facility:pfb_awi_751801:salinity_sbe45_0001\",\n",
    "]"
   ]
  },
  {
   "cell_type": "markdown",
   "metadata": {
    "slideshow": {
     "slide_type": "subslide"
    }
   },
   "source": [
    "## The MOSES 4 Show Case\n",
    "\n",
    "To download the data, we use the O2A data-web-services package (https://github.com/o2a-data/o2a-data-dws)."
   ]
  },
  {
   "cell_type": "code",
   "execution_count": null,
   "metadata": {},
   "outputs": [],
   "source": [
    "from dws import dws\n",
    "\n",
    "df = dws.get(sensors, \"2020-01-01\", \"2020-12-31\")\n",
    "\n",
    "df.columns = [col.split(\":\")[-1].replace(\"_0001\", \"\").replace(\" (mean) \", \" \") for col in df.columns]\n",
    "df"
   ]
  },
  {
   "cell_type": "markdown",
   "metadata": {
    "slideshow": {
     "slide_type": "slide"
    }
   },
   "source": [
    "## The ECOSMO Backend Module\n",
    "\n",
    "We created a backend module that loads climate model data and extracts the data along a specific path."
   ]
  },
  {
   "cell_type": "markdown",
   "metadata": {},
   "source": [
    "```python\n",
    "def get_model_parameter(\n",
    "    names: Union[Parameter, List[Parameter]],\n",
    "    time: List[datetime.datetime],\n",
    "    lat: List[float],\n",
    "    lon: List[float],\n",
    ") -> DataFrame:\n",
    "    \"\"\"Get ECOSMO model parameters for a given 3D path.\n",
    "\n",
    "    This function takes a certain list of parameters and a 3D path, denoted by\n",
    "    time, latitude and longitude, and extracts the data from the highresolution\n",
    "    model output.\n",
    "\n",
    "    Parameters\n",
    "    ----------\n",
    "    names : Union[Parameter, List[Parameter]]\n",
    "        The parameter names to extract, see :class:`Parameter`.\n",
    "    time : List[datetime.datetime]\n",
    "        The list of times for each point.\n",
    "    lat : List[float]\n",
    "        The list of latitudes in degrees North for each point. Must be of the\n",
    "        same length as `time` and `lon`.\n",
    "    lon : List[float]\n",
    "        The list of longitudes in degrees East for each point. Must be of the\n",
    "        same length as `time` and `lat`.\n",
    "\n",
    "    Returns\n",
    "    -------\n",
    "    DataFrame\n",
    "        The dataframe with the selected model parameters for the given path.\n",
    "    \"\"\"\n",
    "    if isinstance(names, str):\n",
    "        names = [names]\n",
    "    params = [param.value for param in map(Parameter, names)]\n",
    "\n",
    "    if len(lat) != len(lon) or len(lat) != len(time):\n",
    "        raise ValueError(\"lat, time and lon must all be of the same length!\")\n",
    "\n",
    "    with xr.open_dataset(\n",
    "        osp.join(data_dir, \"ecosmo-ute-daewel-20200501-20200531.nc\")\n",
    "    ) as ds:\n",
    "\n",
    "        ds = ds[params].isel(layer=0).drop_vars(\"layer\")\n",
    "        lon_da = xr.DataArray(lon, dims=\"path\")\n",
    "        lat_da = xr.DataArray(lat, dims=\"path\")\n",
    "        time_da = xr.DataArray(time, dims=\"path\")\n",
    "        ds = ds.interp(lon=lon_da, lat=lat_da, time=time_da)\n",
    "\n",
    "    # convert the data to a pandas dataframe\n",
    "    return ds.to_dataframe()\n",
    "```"
   ]
  },
  {
   "cell_type": "markdown",
   "metadata": {
    "slideshow": {
     "slide_type": "subslide"
    }
   },
   "source": [
    "## Using the ECOSMO api module\n",
    "\n",
    "Now we call the backend module (assuming that it is connected already)."
   ]
  },
  {
   "cell_type": "code",
   "execution_count": null,
   "metadata": {
    "cell_style": "split"
   },
   "outputs": [],
   "source": [
    "from ecosmo.api import get_model_parameter\n",
    "\n",
    "model_data = get_model_parameter(\n",
    "    [\"temp\", \"salt\"], \n",
    "    df.datetime.to_list(), \n",
    "    df[\"latitude [degree]\"].to_list(), \n",
    "    df[\"longitude [degree]\"].to_list()\n",
    ")"
   ]
  },
  {
   "cell_type": "code",
   "execution_count": null,
   "metadata": {
    "cell_style": "split"
   },
   "outputs": [],
   "source": [
    "model_data"
   ]
  },
  {
   "cell_type": "markdown",
   "metadata": {
    "slideshow": {
     "slide_type": "slide"
    }
   },
   "source": [
    "## Model vs. Observations"
   ]
  },
  {
   "cell_type": "markdown",
   "metadata": {
    "cell_style": "split"
   },
   "source": [
    "Now we can merge the `temp` and `salt` columns into our observations and plot them."
   ]
  },
  {
   "cell_type": "code",
   "execution_count": null,
   "metadata": {
    "cell_style": "split"
   },
   "outputs": [],
   "source": [
    "df[\"ecosmo_temperature\"] = model_data.temp.values\n",
    "df[\"ecosmo_salinity\"] = model_data.salt.values"
   ]
  },
  {
   "cell_type": "code",
   "execution_count": null,
   "metadata": {},
   "outputs": [],
   "source": [
    "import matplotlib.pyplot as plt\n",
    "fig, axes = plt.subplots(1, 3, figsize=(14, 4), dpi=150)\n",
    "df.plot.scatter(\"temperature [°C]\", \"ecosmo_temperature\", ax=axes[0])\n",
    "df.plot.scatter(\"temperature_sbe45 [°C]\", \"ecosmo_temperature\", ax=axes[1])\n",
    "df.plot.scatter(\"salinity_sbe45 [PSU]\", \"ecosmo_salinity\", ax=axes[2])"
   ]
  }
 ],
 "metadata": {
  "celltoolbar": "Slideshow",
  "kernelspec": {
   "display_name": "Python 3",
   "language": "python",
   "name": "python3"
  },
  "language_info": {
   "codemirror_mode": {
    "name": "ipython",
    "version": 3
   },
   "file_extension": ".py",
   "mimetype": "text/x-python",
   "name": "python",
   "nbconvert_exporter": "python",
   "pygments_lexer": "ipython3",
   "version": "3.8.6"
  },
  "rise": {
   "autolaunch": true,
   "header": "<table><tr><td><h3>Basic example for de-messaging-python &ndash; January 22nd, 2021 &ndash; <a href='mailto:philipp.sommer@hzg.de'>Philipp S. Sommer</a></h3></td><td><a href='https://hzg.de', target='_blank'><img src='img/logo_hzg_rgb_deutsch.jpeg' alt='HZG' /></a><a href='https://hcdc.hzg.de', target='_blank'><img src='img/HCDC_final_RGB-small.jpg' alt='HCDC' /></a></td></tr></table>",
   "scroll": true,
   "top": "0px"
  }
 },
 "nbformat": 4,
 "nbformat_minor": 2
}
